{
 "cells": [
  {
   "cell_type": "code",
   "execution_count": 1,
   "metadata": {},
   "outputs": [
    {
     "name": "stdout",
     "output_type": "stream",
     "text": [
      "Requirement already satisfied: PyPDF2 in /Library/Frameworks/Python.framework/Versions/3.12/lib/python3.12/site-packages (3.0.1)\n"
     ]
    }
   ],
   "source": [
    "!pip install PyPDF2\n",
    "!pip install sentence_transformers"
   ]
  },
  {
   "cell_type": "code",
   "execution_count": 1,
   "metadata": {},
   "outputs": [],
   "source": [
    "import chromadb\n",
    "chroma_client = chromadb.Client()\n"
   ]
  },
  {
   "cell_type": "code",
   "execution_count": 2,
   "metadata": {},
   "outputs": [],
   "source": [
    "import PyPDF2\n",
    "\n",
    "def extract_text_from_pdf(pdf_file_path):\n",
    "    text = \"\"\n",
    "    with open(pdf_file_path, 'rb') as pdf_file:\n",
    "        reader = PyPDF2.PdfReader(pdf_file)\n",
    "        for page_num in range(len(reader.pages)):\n",
    "            text += reader.pages[page_num].extract_text()\n",
    "    return text\n",
    "\n",
    "pdf_text = extract_text_from_pdf(\"ghs.pdf\")\n"
   ]
  },
  {
   "cell_type": "code",
   "execution_count": 3,
   "metadata": {},
   "outputs": [],
   "source": [
    "def chunk_text(text, chunk_size=500):\n",
    "    return [text[i:i + chunk_size] for i in range(0, len(text), chunk_size)]\n",
    "\n",
    "text_chunks = chunk_text(pdf_text)\n"
   ]
  },
  {
   "cell_type": "code",
   "execution_count": 21,
   "metadata": {},
   "outputs": [],
   "source": [
    "from sentence_transformers import SentenceTransformer\n",
    "embedding_model = SentenceTransformer('sentence-transformers/all-MiniLM-L6-v2')"
   ]
  },
  {
   "cell_type": "code",
   "execution_count": 23,
   "metadata": {},
   "outputs": [
    {
     "name": "stdout",
     "output_type": "stream",
     "text": [
      "Result 1:\n",
      "Document:  to the  Superintendent for approval. \n",
      "Both  the request  and the text  are then  presented to the Board  of \n",
      "Education  for review.  If you  have  questions  about  instructional \n",
      "materials, please consult the appropriate curriculum director.  \n",
      " \n",
      "GRIEVANCE  PROCEDURE  AND COMPLIANCE \n",
      "OFFICERS FOR VIOLATIONS AND \n",
      "COMPLAINTS   \n",
      "The Glastonbury Public Schools as a matter of policy \n",
      "provides educational opportunities without regard to race, \n",
      "creed, color, national origin, religion, gender, sexual o\n",
      "Score: 0.9250936508178711\n"
     ]
    }
   ],
   "source": [
    "query_text = \"school policy\"\n",
    "\n",
    "query_embedding = embedding_model.encode([query_text], convert_to_tensor=False)[0]\n",
    "\n",
    "results = collection.query(\n",
    "    query_embeddings=[query_embedding.tolist()],  \n",
    "    n_results=5  \n",
    ")\n",
    "\n",
    "for i, result in enumerate(results['documents']):\n",
    "    print(f\"Result {i + 1}:\")\n",
    "    print(f\"Document: {result[0]}\")\n",
    "    print(f\"Score: {results['distances'][i][0]}\")\n"
   ]
  },
  {
   "cell_type": "code",
   "execution_count": 10,
   "metadata": {},
   "outputs": [],
   "source": [
    "import chromadb\n",
    "\n",
    "client = chromadb.PersistentClient(path='./chorma_store')\n",
    "\n",
    "collection = client.create_collection(\"ghs_embeddings\")\n",
    "\n",
    "for i, chunk_embedding in enumerate(embedded_chunks):\n",
    "    collection.add(\n",
    "        documents=[text_chunks[i]], \n",
    "        embeddings=[chunk_embedding.tolist()],\n",
    "        ids=[f\"chunk_{i}\"]\n",
    "    )\n"
   ]
  },
  {
   "cell_type": "code",
   "execution_count": 24,
   "metadata": {},
   "outputs": [
    {
     "name": "stdout",
     "output_type": "stream",
     "text": [
      "Result 1:\n",
      "Document: utions, and the ethical and social implications of \n",
      "computing. The course emphasizes both object -oriented and \n",
      "imperative problem solving and design using Java language. These techniques represent proven approaches for developing solutions that can scale up from small, simple prob lems to \n",
      "large, complex problems. The AP Computer Science A course curriculum is compatible with many CS1 courses in colleges \n",
      "and universities. (From the Advanced Placement Program \n",
      "Handbook)  \n",
      "Students who wish to g\n",
      "Score: 0.8495681285858154\n"
     ]
    }
   ],
   "source": [
    "import chromadb\n",
    "\n",
    "client = chromadb.PersistentClient(path='./chorma_store')\n",
    "\n",
    "collection = client.get_collection(\"ghs_embeddings\")\n",
    "\n",
    "query_text = \"Computer science\"\n",
    "\n",
    "query_embedding = embedding_model.encode([query_text], convert_to_tensor=False)[0]\n",
    "\n",
    "results = collection.query(\n",
    "    query_embeddings=[query_embedding.tolist()],\n",
    "    n_results=5  \n",
    ")\n",
    "\n",
    "for i, result in enumerate(results['documents']):\n",
    "    print(f\"Result {i + 1}:\")\n",
    "    print(f\"Document: {result[0]}\")\n",
    "    print(f\"Score: {results['distances'][i][0]}\")\n"
   ]
  },
  {
   "cell_type": "code",
   "execution_count": 27,
   "metadata": {},
   "outputs": [
    {
     "name": "stdout",
     "output_type": "stream",
     "text": [
      "Result 1:\n",
      "Document: utions, and the ethical and social implications of \n",
      "computing. The course emphasizes both object -oriented and \n",
      "imperative problem solving and design using Java language. These techniques represent proven approaches for developing solutions that can scale up from small, simple prob lems to \n",
      "large, complex problems. The AP Computer Science A course curriculum is compatible with many CS1 courses in colleges \n",
      "and universities. (From the Advanced Placement Program \n",
      "Handbook)  \n",
      "Students who wish to g\n",
      "Thank you for reaching out! At Glastonbury High School, we offer an Advanced Placement Computer Science A course that focuses on teaching students about the fundamentals of computer programming using Java. This course covers a range of topics, including object-oriented and imperative problem-solving techniques, design principles, and algorithm development.\n",
      "\n",
      "Through this course, students will learn to write efficient, scalable, and well-designed programs to solve complex problems. We emphasize both theoretical and practical aspects of computing, ensuring that our students gain a deep understanding of programming concepts and their applications.\n",
      "\n",
      "As an AP Computer Science A course, it's designed to be compatible with many CS1 courses at the college level, providing our students with a strong foundation in computer science and preparing them for further studies or careers in this field. If you're interested in learning more about this course or would like to discuss the curriculum in greater detail, please don't hesitate to reach out!\n"
     ]
    }
   ],
   "source": [
    "from langchain_ollama import OllamaLLM\n",
    "from langchain_core.prompts import ChatPromptTemplate\n",
    "\n",
    "client = chromadb.PersistentClient(path='./chorma_store')\n",
    "\n",
    "collection = client.get_collection(\"ghs_embeddings\")\n",
    "\n",
    "query_text = \"what is are the computer science at this school?\"\n",
    "\n",
    "query_embedding = embedding_model.encode([query_text], convert_to_tensor=False)[0]\n",
    "\n",
    "results = collection.query(\n",
    "    query_embeddings=[query_embedding.tolist()],\n",
    "    n_results=5 \n",
    ")\n",
    "\n",
    "# Print the results\n",
    "for i, result in enumerate(results['documents']):\n",
    "    print(f\"Result {i + 1}:\")\n",
    "    print(f\"Document: {result[0]}\")\n",
    "    context = result[0]\n",
    "\n",
    "\n",
    "template = \"\"\"You are an assitant for Glastonbury High School. Answer the question below in a nice and proffessional manner. \n",
    "Here is the conversation history {context}\n",
    "Question: {question}\n",
    "Answer:\n",
    "\"\"\"\n",
    "\n",
    "model = OllamaLLM(model='llama3')\n",
    "prompt = ChatPromptTemplate.from_template(template)\n",
    "chain = prompt | model\n",
    "result = chain.invoke({'context': context, 'question': query_text})\n",
    "print(result)"
   ]
  }
 ],
 "metadata": {
  "kernelspec": {
   "display_name": "Python 3",
   "language": "python",
   "name": "python3"
  },
  "language_info": {
   "codemirror_mode": {
    "name": "ipython",
    "version": 3
   },
   "file_extension": ".py",
   "mimetype": "text/x-python",
   "name": "python",
   "nbconvert_exporter": "python",
   "pygments_lexer": "ipython3",
   "version": "3.12.4"
  }
 },
 "nbformat": 4,
 "nbformat_minor": 2
}
